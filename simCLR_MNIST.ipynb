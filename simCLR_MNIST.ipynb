{
  "nbformat": 4,
  "nbformat_minor": 0,
  "metadata": {
    "colab": {
      "name": "simCLR_MNIST.ipynb",
      "provenance": [],
      "collapsed_sections": [],
      "authorship_tag": "ABX9TyPgK4/qMM+YSzCFNZrMo5J1",
      "include_colab_link": true
    },
    "kernelspec": {
      "name": "python3",
      "display_name": "Python 3"
    },
    "language_info": {
      "name": "python"
    },
    "accelerator": "GPU"
  },
  "cells": [
    {
      "cell_type": "markdown",
      "metadata": {
        "id": "view-in-github",
        "colab_type": "text"
      },
      "source": [
        "<a href=\"https://colab.research.google.com/github/joshualin24/SelfSupervisedLearning_PyTorch/blob/master/simCLR_MNIST.ipynb\" target=\"_parent\"><img src=\"https://colab.research.google.com/assets/colab-badge.svg\" alt=\"Open In Colab\"/></a>"
      ]
    },
    {
      "cell_type": "code",
      "execution_count": null,
      "metadata": {
        "id": "YLfXW81r4ngd"
      },
      "outputs": [],
      "source": [
        "import numpy as np\n",
        "import torch\n",
        "import torch.nn as nn\n",
        "import torch.nn.functional as F\n",
        "import torch.optim as optim\n",
        "from torch.autograd import Variable\n",
        "import torch.utils.data as Data\n",
        "import torchvision\n",
        "import time\n",
        "from torchvision import datasets, transforms\n",
        "from torch.autograd import Variable\n",
        "from torchvision.utils import save_image\n",
        "from torch.utils.data import (\n",
        "    Dataset,\n",
        "    DataLoader,\n",
        ")\n",
        "\n",
        "from torchvision.datasets import ImageFolder\n",
        "from torchvision.transforms import (\n",
        "    RandomResizedCrop,\n",
        "    RandomHorizontalFlip,\n",
        "    ColorJitter,\n",
        "    RandomGrayscale,\n",
        "    RandomApply,\n",
        "    Compose,\n",
        "    GaussianBlur,\n",
        "    ToTensor,\n",
        ")\n",
        "import torchvision.models as models\n",
        "\n",
        "import os\n",
        "import glob\n",
        "import time\n",
        "from skimage import io\n",
        "import matplotlib.pyplot as plt\n",
        "\n",
        "torch.manual_seed(1) ### import for reproducibility \n",
        "\n",
        "%matplotlib inline"
      ]
    },
    {
      "cell_type": "markdown",
      "source": [
        "testing simCLR"
      ],
      "metadata": {
        "id": "DZAdx2sZ4zZU"
      }
    },
    {
      "cell_type": "code",
      "source": [
        "print(\"chech gpu status\")\n",
        "print(\"CUDA available?\", torch.cuda.is_available())"
      ],
      "metadata": {
        "colab": {
          "base_uri": "https://localhost:8080/"
        },
        "id": "TRkSnyLO41O6",
        "outputId": "e509b084-e0dd-49a8-fe1d-4a31288e92d0"
      },
      "execution_count": null,
      "outputs": [
        {
          "output_type": "stream",
          "name": "stdout",
          "text": [
            "chech gpu status\n",
            "CUDA available? True\n"
          ]
        }
      ]
    },
    {
      "cell_type": "code",
      "source": [
        "\n",
        "DOWNLOAD_MNIST = True\n",
        "train_data = torchvision.datasets.MNIST(\n",
        "    root='./mnist/', \n",
        "    train=True,\n",
        "    download=DOWNLOAD_MNIST,)\n",
        "\n",
        "### data loader for processing the data in batch\n",
        "# train_loader = Data.DataLoader(\n",
        "#     dataset=train_data, \n",
        "#     batch_size=BATCH_SIZE, \n",
        "#     shuffle=True)\n",
        "\n",
        "test_data = torchvision.datasets.MNIST(\n",
        "    root='./mnist/', train=False)\n",
        "\n",
        "# !!!!!!!! Change in here !!!!!!!!! #\n",
        "test_x = Variable(torch.unsqueeze(test_data.test_data, dim=1)).type(torch.FloatTensor)[:2000].cuda()/255.   # Tensor on GPU\n",
        "test_y = test_data.test_labels[:2000].cuda()\n"
      ],
      "metadata": {
        "colab": {
          "base_uri": "https://localhost:8080/"
        },
        "id": "4hQBP5fY460Y",
        "outputId": "2e90d7af-437e-44d2-e462-a975d84dedf0"
      },
      "execution_count": null,
      "outputs": [
        {
          "output_type": "stream",
          "name": "stderr",
          "text": [
            "/usr/local/lib/python3.7/dist-packages/torchvision/datasets/mnist.py:67: UserWarning: test_data has been renamed data\n",
            "  warnings.warn(\"test_data has been renamed data\")\n",
            "/usr/local/lib/python3.7/dist-packages/torchvision/datasets/mnist.py:57: UserWarning: test_labels has been renamed targets\n",
            "  warnings.warn(\"test_labels has been renamed targets\")\n"
          ]
        }
      ]
    },
    {
      "cell_type": "code",
      "source": [
        "print(f'Torch-Version {torch.__version__}')\n",
        "DEVICE = torch.device(\"cuda\" if torch.cuda.is_available() else \"cpu\")\n",
        "print(f'DEVICE: {DEVICE}')"
      ],
      "metadata": {
        "colab": {
          "base_uri": "https://localhost:8080/"
        },
        "id": "iZitlXWq4_bc",
        "outputId": "02d0751a-8922-4084-ed80-6b3e9f524767"
      },
      "execution_count": null,
      "outputs": [
        {
          "output_type": "stream",
          "name": "stdout",
          "text": [
            "Torch-Version 1.10.0+cu111\n",
            "DEVICE: cuda\n"
          ]
        }
      ]
    },
    {
      "cell_type": "code",
      "source": [
        "def get_complete_transform(output_shape, kernel_size, s=1.0):\n",
        "    \"\"\"\n",
        "    The color distortion transform.\n",
        "    \n",
        "    Args:\n",
        "        s: Strength parameter.\n",
        "    \n",
        "    Returns:\n",
        "        A color distortion transform.\n",
        "    \"\"\"\n",
        "    rnd_crop = RandomResizedCrop(output_shape)\n",
        "    rnd_flip = RandomHorizontalFlip(p=0.5)\n",
        "    \n",
        "    color_jitter = ColorJitter(0.8*s, 0.8*s, 0.8*s, 0.2*s)\n",
        "    rnd_color_jitter = RandomApply([color_jitter], p=0.8)\n",
        "    \n",
        "    rnd_gray = RandomGrayscale(p=0.2)\n",
        "    gaussian_blur = GaussianBlur(kernel_size=kernel_size)\n",
        "    rnd_gaussian_blur = RandomApply([gaussian_blur], p=0.5)\n",
        "    to_tensor = ToTensor()\n",
        "    image_transform = Compose([\n",
        "        to_tensor,\n",
        "        rnd_crop,\n",
        "        rnd_flip,\n",
        "        rnd_color_jitter,\n",
        "        rnd_gray,\n",
        "        rnd_gaussian_blur,\n",
        "    ])\n",
        "    return image_transform\n",
        "\n",
        "\n",
        "class ContrastiveLearningViewGenerator(object):\n",
        "    \"\"\"Take two random crops of one image as the query and key.\"\"\"\n",
        "\n",
        "    def __init__(self, base_transform, n_views=2):\n",
        "        self.base_transform = base_transform\n",
        "        self.n_views = n_views\n",
        "\n",
        "    def __call__(self, x):\n",
        "        views = [self.base_transform(x) for i in range(self.n_views)]\n",
        "        return views"
      ],
      "metadata": {
        "id": "PuroxCyh6iYQ"
      },
      "execution_count": null,
      "outputs": []
    },
    {
      "cell_type": "code",
      "source": [
        "class CustomDataset(Dataset):\n",
        "    \"\"\"Flowers Dataset\"\"\"\n",
        "\n",
        "    def __init__(self, list_images, transform=None):\n",
        "        \"\"\"\n",
        "        Args:\n",
        "            list_images (list): List of all the images.\n",
        "            transform (callable, optional): Optional transform to be applied\n",
        "                on a sample.\n",
        "        \"\"\"\n",
        "        self.list_images = list_images\n",
        "        self.transform = transform\n",
        "\n",
        "    def __len__(self):\n",
        "        return len(self.list_images)\n",
        "\n",
        "    def __getitem__(self, idx):\n",
        "        if torch.is_tensor(idx):\n",
        "            idx = idx.tolist()\n",
        "            \n",
        "        image = self.list_images[idx]\n",
        "        image = image / 255\n",
        "        img = np.zeros((28, 28, 3))\n",
        "        for i in range(3):\n",
        "          img[:, :, i] += image\n",
        "\n",
        "        image = img\n",
        "        #image = np.expand_dims(image, axis=2)\n",
        "        #image = io.imread(img_name)\n",
        "        if self.transform:\n",
        "            image = self.transform(image)\n",
        "\n",
        "        return image\n"
      ],
      "metadata": {
        "id": "IXAK4M9G6mky"
      },
      "execution_count": null,
      "outputs": []
    },
    {
      "cell_type": "code",
      "source": [
        "print(\"train\", len(train_data.data))\n",
        "\n",
        "(train_data.data[0].shape)"
      ],
      "metadata": {
        "colab": {
          "base_uri": "https://localhost:8080/"
        },
        "id": "i-bkSuE761p6",
        "outputId": "672a8e3f-2dc2-47b3-d276-f64330b18f6c"
      },
      "execution_count": null,
      "outputs": [
        {
          "output_type": "stream",
          "name": "stdout",
          "text": [
            "train 60000\n"
          ]
        },
        {
          "output_type": "execute_result",
          "data": {
            "text/plain": [
              "torch.Size([28, 28])"
            ]
          },
          "metadata": {},
          "execution_count": 80
        }
      ]
    },
    {
      "cell_type": "code",
      "source": [
        "# The size of the images\n",
        "output_shape = [28,28]\n",
        "kernel_size = [3,3] # 10% of the output_shape\n",
        "\n",
        "# The custom transform\n",
        "base_transforms = get_complete_transform(output_shape=output_shape, kernel_size=kernel_size, s=1.0)\n",
        "custom_transform = ContrastiveLearningViewGenerator(base_transform=base_transforms)\n",
        "\n",
        "mnist_ds = CustomDataset(\n",
        "    list_images=train_data.data.numpy(),\n",
        "    transform=custom_transform\n",
        ")\n"
      ],
      "metadata": {
        "id": "cNEsqmin6pvQ"
      },
      "execution_count": null,
      "outputs": []
    },
    {
      "cell_type": "code",
      "source": [
        "plt.figure(figsize=(10,20))\n",
        "def view_data(flowers, index):\n",
        "    for i in range(1,6):\n",
        "        images = flowers[index]\n",
        "        view1, view2 = images\n",
        "        #print(view1)\n",
        "        plt.subplot(5,2,2*i-1)\n",
        "        plt.imshow(view1.permute(1, 2, 0))\n",
        "        plt.subplot(5,2,2*i)\n",
        "        plt.imshow(view2.permute(1, 2, 0))\n",
        "\n",
        "view_data(mnist_ds,2000)"
      ],
      "metadata": {
        "colab": {
          "base_uri": "https://localhost:8080/",
          "height": 1000
        },
        "id": "vZfQOoFm68_P",
        "outputId": "de13d651-66e0-422f-8853-bfd62be0f9e4"
      },
      "execution_count": null,
      "outputs": [
        {
          "output_type": "display_data",
          "data": {
            "text/plain": [
              "<Figure size 720x1440 with 10 Axes>"
            ],
            "image/png": "[encoded data removed]"
          },
          "metadata": {
            "needs_background": "light"
          }
        }
      ]
    },
    {
      "cell_type": "code",
      "source": [
        "BATCH_SIZE = 128\n",
        "\n",
        "# Building the data loader\n",
        "train_dl = torch.utils.data.DataLoader(\n",
        "    mnist_ds,\n",
        "    batch_size=BATCH_SIZE,\n",
        "    shuffle=True,\n",
        "    num_workers=os.cpu_count(),\n",
        "    drop_last=True,\n",
        "    pin_memory=True,\n",
        ")"
      ],
      "metadata": {
        "id": "yQlqkkkx7LFj"
      },
      "execution_count": null,
      "outputs": []
    },
    {
      "cell_type": "code",
      "source": [
        "class Identity(nn.Module):\n",
        "    def __init__(self):\n",
        "        super(Identity, self).__init__()\n",
        "    def forward(self, x):\n",
        "        return x\n",
        "\n",
        "class SimCLR(nn.Module):\n",
        "    def __init__(self, linear_eval=False):\n",
        "        super().__init__()\n",
        "        self.linear_eval = linear_eval\n",
        "        cnn = CNN()\n",
        "        #resnet18.fc = Identity()\n",
        "        self.encoder = cnn #resnet18\n",
        "        self.projection = nn.Sequential(\n",
        "            nn.Linear(128, 128),\n",
        "            nn.ReLU(),\n",
        "            nn.Linear(128, 128)\n",
        "        )\n",
        "    def forward(self, x):\n",
        "        if not self.linear_eval:\n",
        "            x = torch.cat(x, dim=0)\n",
        "        \n",
        "        encoding = self.encoder(x)\n",
        "        projection = self.projection(encoding) \n",
        "        return projection\n",
        "\n",
        "class CNN(nn.Module):\n",
        "    def __init__(self):\n",
        "        super(CNN, self).__init__()\n",
        "        self.conv1 = nn.Sequential(\n",
        "            nn.Conv2d(in_channels=3, out_channels=32, kernel_size=3, stride=1, padding=1,),                      \n",
        "            nn.ReLU(), \n",
        "            nn.MaxPool2d(kernel_size=2, stride=2, padding=0),)\n",
        "        self.conv2 = nn.Sequential(\n",
        "            nn.Conv2d(32, 64, 3, 1, 1), \n",
        "            nn.ReLU(), \n",
        "            nn.MaxPool2d(2, stride=2),)\n",
        "        self.out = nn.Linear(64 * 7 * 7, 128)\n",
        "\n",
        "    def forward(self, x):\n",
        "        x = self.conv1(x)\n",
        "        x = self.conv2(x)\n",
        "        x = x.view(x.size(0), -1)\n",
        "        output = self.out(x)\n",
        "        return output\n"
      ],
      "metadata": {
        "id": "z16ZC30O7uXo"
      },
      "execution_count": null,
      "outputs": []
    },
    {
      "cell_type": "code",
      "source": [
        "\n"
      ],
      "metadata": {
        "id": "ZHsL2NO3AO08"
      },
      "execution_count": null,
      "outputs": []
    },
    {
      "cell_type": "code",
      "source": [
        "LABELS = torch.cat([torch.arange(BATCH_SIZE) for i in range(2)], dim=0)\n",
        "LABELS = (LABELS.unsqueeze(0) == LABELS.unsqueeze(1)).float() # Creates a one-hot with broadcasting\n",
        "LABELS = LABELS.to(DEVICE) #128,128\n",
        "\n",
        "def cont_loss(features, temp):\n",
        "    \"\"\"\n",
        "    The NTxent Loss.\n",
        "    \n",
        "    Args:\n",
        "        z1: The projection of the first branch\n",
        "        z2: The projeciton of the second branch\n",
        "    \n",
        "    Returns:\n",
        "        the NTxent loss\n",
        "    \"\"\"\n",
        "    similarity_matrix = torch.matmul(features, features.T) # 128, 128\n",
        "    # discard the main diagonal from both: labels and similarities matrix\n",
        "    mask = torch.eye(LABELS.shape[0], dtype=torch.bool).to(DEVICE)\n",
        "    # ~mask is the negative of the mask\n",
        "    # the view is required to bring the matrix back to shape\n",
        "    labels = LABELS[~mask].view(LABELS.shape[0], -1) # 128, 127\n",
        "    similarity_matrix = similarity_matrix[~mask].view(similarity_matrix.shape[0], -1) # 128, 127\n",
        "\n",
        "    # select and combine multiple positives\n",
        "    positives = similarity_matrix[labels.bool()].view(labels.shape[0], -1) # 128, 1\n",
        "\n",
        "    # select only the negatives\n",
        "    negatives = similarity_matrix[~labels.bool()].view(similarity_matrix.shape[0], -1) # 128, 126\n",
        "\n",
        "    logits = torch.cat([positives, negatives], dim=1) # 128, 127\n",
        "    labels = torch.zeros(logits.shape[0], dtype=torch.long).to(DEVICE)\n",
        "\n",
        "    logits = logits / temp\n",
        "    return logits, labels"
      ],
      "metadata": {
        "id": "GgRJBEJ-Aq87"
      },
      "execution_count": null,
      "outputs": []
    },
    {
      "cell_type": "code",
      "source": [
        "simclr_model = SimCLR().to(DEVICE)\n",
        "criterion = nn.CrossEntropyLoss().to(DEVICE)\n",
        "optimizer = torch.optim.Adam(simclr_model.parameters())"
      ],
      "metadata": {
        "id": "KnwVhJVTAvV9"
      },
      "execution_count": null,
      "outputs": []
    },
    {
      "cell_type": "code",
      "source": [
        "\n",
        "EPOCHS = 10\n",
        "for epoch in range(EPOCHS):\n",
        "    t0 = time.time()\n",
        "    running_loss = 0.0\n",
        "    for i, views in enumerate(train_dl):\n",
        "        projections = simclr_model([view.float().to(DEVICE) for view in views])\n",
        "        logits, labels = cont_loss(projections, temp=2)\n",
        "        loss = criterion(logits, labels)\n",
        "        optimizer.zero_grad()\n",
        "        loss.backward()\n",
        "        optimizer.step()\n",
        "        \n",
        "        # print statistics\n",
        "        running_loss += loss.item()\n",
        "        if i % 10 == 9:    # print every 10 mini-batches\n",
        "            print(f'EPOCH: {epoch+1} BATCH: {i+1} LOSS: {(running_loss/100):.4f} ')\n",
        "            running_loss = 0.0\n",
        "    print(f'Time taken: {((time.time()-t0)/60):.3f} mins')"
      ],
      "metadata": {
        "colab": {
          "base_uri": "https://localhost:8080/"
        },
        "id": "5BgCsjplAxZw",
        "outputId": "45942d2d-4609-4d37-f501-b1c25e4a8d79"
      },
      "execution_count": null,
      "outputs": [
        {
          "output_type": "stream",
          "name": "stdout",
          "text": [
            "EPOCH: 1 BATCH: 10 LOSS: 0.5534 \n",
            "EPOCH: 1 BATCH: 20 LOSS: 0.5510 \n",
            "EPOCH: 1 BATCH: 30 LOSS: 0.5479 \n",
            "EPOCH: 1 BATCH: 40 LOSS: 0.5453 \n",
            "EPOCH: 1 BATCH: 50 LOSS: 0.5420 \n",
            "EPOCH: 1 BATCH: 60 LOSS: 0.5355 \n",
            "EPOCH: 1 BATCH: 70 LOSS: 0.5320 \n",
            "EPOCH: 1 BATCH: 80 LOSS: 0.5283 \n",
            "EPOCH: 1 BATCH: 90 LOSS: 0.5209 \n",
            "EPOCH: 1 BATCH: 100 LOSS: 0.5193 \n",
            "EPOCH: 1 BATCH: 110 LOSS: 0.5175 \n",
            "EPOCH: 1 BATCH: 120 LOSS: 0.5114 \n",
            "EPOCH: 1 BATCH: 130 LOSS: 0.5066 \n",
            "EPOCH: 1 BATCH: 140 LOSS: 0.5065 \n",
            "EPOCH: 1 BATCH: 150 LOSS: 0.4963 \n",
            "EPOCH: 1 BATCH: 160 LOSS: 0.4982 \n",
            "EPOCH: 1 BATCH: 170 LOSS: 0.4943 \n",
            "EPOCH: 1 BATCH: 180 LOSS: 0.4938 \n",
            "EPOCH: 1 BATCH: 190 LOSS: 0.4935 \n",
            "EPOCH: 1 BATCH: 200 LOSS: 0.4980 \n",
            "EPOCH: 1 BATCH: 210 LOSS: 0.4881 \n",
            "EPOCH: 1 BATCH: 220 LOSS: 0.4802 \n",
            "EPOCH: 1 BATCH: 230 LOSS: 0.4765 \n",
            "EPOCH: 1 BATCH: 240 LOSS: 0.4789 \n",
            "EPOCH: 1 BATCH: 250 LOSS: 0.4788 \n",
            "EPOCH: 1 BATCH: 260 LOSS: 0.4754 \n",
            "EPOCH: 1 BATCH: 270 LOSS: 0.4809 \n",
            "EPOCH: 1 BATCH: 280 LOSS: 0.4729 \n",
            "EPOCH: 1 BATCH: 290 LOSS: 0.4757 \n",
            "EPOCH: 1 BATCH: 300 LOSS: 0.4685 \n",
            "EPOCH: 1 BATCH: 310 LOSS: 0.4685 \n",
            "EPOCH: 1 BATCH: 320 LOSS: 0.4702 \n",
            "EPOCH: 1 BATCH: 330 LOSS: 0.4656 \n",
            "EPOCH: 1 BATCH: 340 LOSS: 0.4563 \n",
            "EPOCH: 1 BATCH: 350 LOSS: 0.4547 \n",
            "EPOCH: 1 BATCH: 360 LOSS: 0.4587 \n",
            "EPOCH: 1 BATCH: 370 LOSS: 0.4589 \n",
            "EPOCH: 1 BATCH: 380 LOSS: 0.4599 \n",
            "EPOCH: 1 BATCH: 390 LOSS: 0.4610 \n",
            "EPOCH: 1 BATCH: 400 LOSS: 0.4559 \n",
            "EPOCH: 1 BATCH: 410 LOSS: 0.4415 \n",
            "EPOCH: 1 BATCH: 420 LOSS: 0.4443 \n",
            "EPOCH: 1 BATCH: 430 LOSS: 0.4385 \n",
            "EPOCH: 1 BATCH: 440 LOSS: 0.4572 \n",
            "EPOCH: 1 BATCH: 450 LOSS: 0.4466 \n",
            "EPOCH: 1 BATCH: 460 LOSS: 0.4436 \n",
            "Time taken: 2.389 mins\n",
            "EPOCH: 2 BATCH: 10 LOSS: 0.4442 \n",
            "EPOCH: 2 BATCH: 20 LOSS: 0.4363 \n",
            "EPOCH: 2 BATCH: 30 LOSS: 0.4350 \n",
            "EPOCH: 2 BATCH: 40 LOSS: 0.4344 \n",
            "EPOCH: 2 BATCH: 50 LOSS: 0.4288 \n",
            "EPOCH: 2 BATCH: 60 LOSS: 0.4349 \n",
            "EPOCH: 2 BATCH: 70 LOSS: 0.4385 \n",
            "EPOCH: 2 BATCH: 80 LOSS: 0.4410 \n",
            "EPOCH: 2 BATCH: 90 LOSS: 0.4302 \n",
            "EPOCH: 2 BATCH: 100 LOSS: 0.4364 \n",
            "EPOCH: 2 BATCH: 110 LOSS: 0.4267 \n",
            "EPOCH: 2 BATCH: 120 LOSS: 0.4274 \n",
            "EPOCH: 2 BATCH: 130 LOSS: 0.4306 \n",
            "EPOCH: 2 BATCH: 140 LOSS: 0.4268 \n",
            "EPOCH: 2 BATCH: 150 LOSS: 0.4182 \n",
            "EPOCH: 2 BATCH: 160 LOSS: 0.4138 \n",
            "EPOCH: 2 BATCH: 170 LOSS: 0.4245 \n",
            "EPOCH: 2 BATCH: 180 LOSS: 0.4212 \n",
            "EPOCH: 2 BATCH: 190 LOSS: 0.4087 \n",
            "EPOCH: 2 BATCH: 200 LOSS: 0.4164 \n",
            "EPOCH: 2 BATCH: 210 LOSS: 0.4167 \n",
            "EPOCH: 2 BATCH: 220 LOSS: 0.4164 \n",
            "EPOCH: 2 BATCH: 230 LOSS: 0.4088 \n",
            "EPOCH: 2 BATCH: 240 LOSS: 0.4229 \n",
            "EPOCH: 2 BATCH: 250 LOSS: 0.4150 \n",
            "EPOCH: 2 BATCH: 260 LOSS: 0.4056 \n",
            "EPOCH: 2 BATCH: 270 LOSS: 0.4123 \n",
            "EPOCH: 2 BATCH: 280 LOSS: 0.4086 \n",
            "EPOCH: 2 BATCH: 290 LOSS: 0.4130 \n",
            "EPOCH: 2 BATCH: 300 LOSS: 0.4049 \n",
            "EPOCH: 2 BATCH: 310 LOSS: 0.4069 \n",
            "EPOCH: 2 BATCH: 320 LOSS: 0.4112 \n",
            "EPOCH: 2 BATCH: 330 LOSS: 0.4039 \n",
            "EPOCH: 2 BATCH: 340 LOSS: 0.4102 \n",
            "EPOCH: 2 BATCH: 350 LOSS: 0.4070 \n",
            "EPOCH: 2 BATCH: 360 LOSS: 0.3999 \n",
            "EPOCH: 2 BATCH: 370 LOSS: 0.4085 \n",
            "EPOCH: 2 BATCH: 380 LOSS: 0.4064 \n",
            "EPOCH: 2 BATCH: 390 LOSS: 0.4026 \n",
            "EPOCH: 2 BATCH: 400 LOSS: 0.4001 \n",
            "EPOCH: 2 BATCH: 410 LOSS: 0.4047 \n",
            "EPOCH: 2 BATCH: 420 LOSS: 0.4016 \n",
            "EPOCH: 2 BATCH: 430 LOSS: 0.4041 \n",
            "EPOCH: 2 BATCH: 440 LOSS: 0.4003 \n",
            "EPOCH: 2 BATCH: 450 LOSS: 0.3941 \n",
            "EPOCH: 2 BATCH: 460 LOSS: 0.4048 \n",
            "Time taken: 2.385 mins\n",
            "EPOCH: 3 BATCH: 10 LOSS: 0.3861 \n",
            "EPOCH: 3 BATCH: 20 LOSS: 0.3905 \n",
            "EPOCH: 3 BATCH: 30 LOSS: 0.3890 \n",
            "EPOCH: 3 BATCH: 40 LOSS: 0.3910 \n",
            "EPOCH: 3 BATCH: 50 LOSS: 0.3979 \n",
            "EPOCH: 3 BATCH: 60 LOSS: 0.3877 \n",
            "EPOCH: 3 BATCH: 70 LOSS: 0.3954 \n",
            "EPOCH: 3 BATCH: 80 LOSS: 0.3777 \n",
            "EPOCH: 3 BATCH: 90 LOSS: 0.3814 \n",
            "EPOCH: 3 BATCH: 100 LOSS: 0.3882 \n",
            "EPOCH: 3 BATCH: 110 LOSS: 0.3892 \n",
            "EPOCH: 3 BATCH: 120 LOSS: 0.3935 \n",
            "EPOCH: 3 BATCH: 130 LOSS: 0.3883 \n",
            "EPOCH: 3 BATCH: 140 LOSS: 0.3799 \n",
            "EPOCH: 3 BATCH: 150 LOSS: 0.3791 \n",
            "EPOCH: 3 BATCH: 160 LOSS: 0.3738 \n",
            "EPOCH: 3 BATCH: 170 LOSS: 0.3810 \n",
            "EPOCH: 3 BATCH: 180 LOSS: 0.3795 \n",
            "EPOCH: 3 BATCH: 190 LOSS: 0.3781 \n",
            "EPOCH: 3 BATCH: 200 LOSS: 0.3791 \n",
            "EPOCH: 3 BATCH: 210 LOSS: 0.3859 \n",
            "EPOCH: 3 BATCH: 220 LOSS: 0.3850 \n",
            "EPOCH: 3 BATCH: 230 LOSS: 0.3827 \n",
            "EPOCH: 3 BATCH: 240 LOSS: 0.3817 \n",
            "EPOCH: 3 BATCH: 250 LOSS: 0.3737 \n",
            "EPOCH: 3 BATCH: 260 LOSS: 0.3834 \n",
            "EPOCH: 3 BATCH: 270 LOSS: 0.3733 \n",
            "EPOCH: 3 BATCH: 280 LOSS: 0.3705 \n",
            "EPOCH: 3 BATCH: 290 LOSS: 0.3677 \n",
            "EPOCH: 3 BATCH: 300 LOSS: 0.3769 \n",
            "EPOCH: 3 BATCH: 310 LOSS: 0.3809 \n",
            "EPOCH: 3 BATCH: 320 LOSS: 0.3798 \n",
            "EPOCH: 3 BATCH: 330 LOSS: 0.3626 \n",
            "EPOCH: 3 BATCH: 340 LOSS: 0.3667 \n",
            "EPOCH: 3 BATCH: 350 LOSS: 0.3695 \n",
            "EPOCH: 3 BATCH: 360 LOSS: 0.3838 \n",
            "EPOCH: 3 BATCH: 370 LOSS: 0.3738 \n",
            "EPOCH: 3 BATCH: 380 LOSS: 0.3739 \n",
            "EPOCH: 3 BATCH: 390 LOSS: 0.3637 \n",
            "EPOCH: 3 BATCH: 400 LOSS: 0.3724 \n",
            "EPOCH: 3 BATCH: 410 LOSS: 0.3714 \n",
            "EPOCH: 3 BATCH: 420 LOSS: 0.3719 \n",
            "EPOCH: 3 BATCH: 430 LOSS: 0.3631 \n",
            "EPOCH: 3 BATCH: 440 LOSS: 0.3689 \n",
            "EPOCH: 3 BATCH: 450 LOSS: 0.3713 \n",
            "EPOCH: 3 BATCH: 460 LOSS: 0.3611 \n",
            "Time taken: 2.376 mins\n",
            "EPOCH: 4 BATCH: 10 LOSS: 0.3650 \n",
            "EPOCH: 4 BATCH: 20 LOSS: 0.3713 \n",
            "EPOCH: 4 BATCH: 30 LOSS: 0.3811 \n",
            "EPOCH: 4 BATCH: 40 LOSS: 0.3726 \n",
            "EPOCH: 4 BATCH: 50 LOSS: 0.3562 \n",
            "EPOCH: 4 BATCH: 60 LOSS: 0.3730 \n",
            "EPOCH: 4 BATCH: 70 LOSS: 0.3559 \n",
            "EPOCH: 4 BATCH: 80 LOSS: 0.3645 \n",
            "EPOCH: 4 BATCH: 90 LOSS: 0.3670 \n",
            "EPOCH: 4 BATCH: 100 LOSS: 0.3628 \n",
            "EPOCH: 4 BATCH: 110 LOSS: 0.3623 \n",
            "EPOCH: 4 BATCH: 120 LOSS: 0.3606 \n",
            "EPOCH: 4 BATCH: 130 LOSS: 0.3631 \n",
            "EPOCH: 4 BATCH: 140 LOSS: 0.3653 \n",
            "EPOCH: 4 BATCH: 150 LOSS: 0.3658 \n",
            "EPOCH: 4 BATCH: 160 LOSS: 0.3635 \n",
            "EPOCH: 4 BATCH: 170 LOSS: 0.3653 \n",
            "EPOCH: 4 BATCH: 180 LOSS: 0.3598 \n",
            "EPOCH: 4 BATCH: 190 LOSS: 0.3728 \n",
            "EPOCH: 4 BATCH: 200 LOSS: 0.3567 \n",
            "EPOCH: 4 BATCH: 210 LOSS: 0.3685 \n",
            "EPOCH: 4 BATCH: 220 LOSS: 0.3589 \n",
            "EPOCH: 4 BATCH: 230 LOSS: 0.3560 \n",
            "EPOCH: 4 BATCH: 240 LOSS: 0.3658 \n",
            "EPOCH: 4 BATCH: 250 LOSS: 0.3654 \n",
            "EPOCH: 4 BATCH: 260 LOSS: 0.3514 \n",
            "EPOCH: 4 BATCH: 270 LOSS: 0.3559 \n",
            "EPOCH: 4 BATCH: 280 LOSS: 0.3548 \n",
            "EPOCH: 4 BATCH: 290 LOSS: 0.3465 \n",
            "EPOCH: 4 BATCH: 300 LOSS: 0.3631 \n",
            "EPOCH: 4 BATCH: 310 LOSS: 0.3554 \n",
            "EPOCH: 4 BATCH: 320 LOSS: 0.3545 \n",
            "EPOCH: 4 BATCH: 330 LOSS: 0.3512 \n",
            "EPOCH: 4 BATCH: 340 LOSS: 0.3539 \n",
            "EPOCH: 4 BATCH: 350 LOSS: 0.3519 \n",
            "EPOCH: 4 BATCH: 360 LOSS: 0.3538 \n",
            "EPOCH: 4 BATCH: 370 LOSS: 0.3526 \n",
            "EPOCH: 4 BATCH: 380 LOSS: 0.3534 \n",
            "EPOCH: 4 BATCH: 390 LOSS: 0.3527 \n",
            "EPOCH: 4 BATCH: 400 LOSS: 0.3466 \n",
            "EPOCH: 4 BATCH: 410 LOSS: 0.3489 \n",
            "EPOCH: 4 BATCH: 420 LOSS: 0.3427 \n",
            "EPOCH: 4 BATCH: 430 LOSS: 0.3611 \n",
            "EPOCH: 4 BATCH: 440 LOSS: 0.3551 \n",
            "EPOCH: 4 BATCH: 450 LOSS: 0.3526 \n",
            "EPOCH: 4 BATCH: 460 LOSS: 0.3446 \n",
            "Time taken: 2.368 mins\n",
            "EPOCH: 5 BATCH: 10 LOSS: 0.3460 \n",
            "EPOCH: 5 BATCH: 20 LOSS: 0.3448 \n",
            "EPOCH: 5 BATCH: 30 LOSS: 0.3527 \n",
            "EPOCH: 5 BATCH: 40 LOSS: 0.3573 \n",
            "EPOCH: 5 BATCH: 50 LOSS: 0.3535 \n",
            "EPOCH: 5 BATCH: 60 LOSS: 0.3471 \n",
            "EPOCH: 5 BATCH: 70 LOSS: 0.3459 \n",
            "EPOCH: 5 BATCH: 80 LOSS: 0.3475 \n",
            "EPOCH: 5 BATCH: 90 LOSS: 0.3393 \n",
            "EPOCH: 5 BATCH: 100 LOSS: 0.3426 \n",
            "EPOCH: 5 BATCH: 110 LOSS: 0.3425 \n",
            "EPOCH: 5 BATCH: 120 LOSS: 0.3464 \n",
            "EPOCH: 5 BATCH: 130 LOSS: 0.3459 \n",
            "EPOCH: 5 BATCH: 140 LOSS: 0.3466 \n",
            "EPOCH: 5 BATCH: 150 LOSS: 0.3587 \n",
            "EPOCH: 5 BATCH: 160 LOSS: 0.3577 \n",
            "EPOCH: 5 BATCH: 170 LOSS: 0.3475 \n",
            "EPOCH: 5 BATCH: 180 LOSS: 0.3417 \n",
            "EPOCH: 5 BATCH: 190 LOSS: 0.3350 \n",
            "EPOCH: 5 BATCH: 200 LOSS: 0.3419 \n",
            "EPOCH: 5 BATCH: 210 LOSS: 0.3348 \n",
            "EPOCH: 5 BATCH: 220 LOSS: 0.3444 \n",
            "EPOCH: 5 BATCH: 230 LOSS: 0.3350 \n",
            "EPOCH: 5 BATCH: 240 LOSS: 0.3433 \n",
            "EPOCH: 5 BATCH: 250 LOSS: 0.3477 \n",
            "EPOCH: 5 BATCH: 260 LOSS: 0.3379 \n",
            "EPOCH: 5 BATCH: 270 LOSS: 0.3328 \n",
            "EPOCH: 5 BATCH: 280 LOSS: 0.3469 \n",
            "EPOCH: 5 BATCH: 290 LOSS: 0.3386 \n",
            "EPOCH: 5 BATCH: 300 LOSS: 0.3458 \n",
            "EPOCH: 5 BATCH: 310 LOSS: 0.3302 \n",
            "EPOCH: 5 BATCH: 320 LOSS: 0.3349 \n",
            "EPOCH: 5 BATCH: 330 LOSS: 0.3450 \n",
            "EPOCH: 5 BATCH: 340 LOSS: 0.3410 \n",
            "EPOCH: 5 BATCH: 350 LOSS: 0.3281 \n",
            "EPOCH: 5 BATCH: 360 LOSS: 0.3394 \n",
            "EPOCH: 5 BATCH: 370 LOSS: 0.3363 \n",
            "EPOCH: 5 BATCH: 380 LOSS: 0.3458 \n",
            "EPOCH: 5 BATCH: 390 LOSS: 0.3406 \n",
            "EPOCH: 5 BATCH: 400 LOSS: 0.3241 \n",
            "EPOCH: 5 BATCH: 410 LOSS: 0.3315 \n",
            "EPOCH: 5 BATCH: 420 LOSS: 0.3394 \n",
            "EPOCH: 5 BATCH: 430 LOSS: 0.3499 \n",
            "EPOCH: 5 BATCH: 440 LOSS: 0.3438 \n",
            "EPOCH: 5 BATCH: 450 LOSS: 0.3368 \n",
            "EPOCH: 5 BATCH: 460 LOSS: 0.3416 \n",
            "Time taken: 2.367 mins\n",
            "EPOCH: 6 BATCH: 10 LOSS: 0.3395 \n",
            "EPOCH: 6 BATCH: 20 LOSS: 0.3359 \n",
            "EPOCH: 6 BATCH: 30 LOSS: 0.3364 \n",
            "EPOCH: 6 BATCH: 40 LOSS: 0.3419 \n",
            "EPOCH: 6 BATCH: 50 LOSS: 0.3321 \n",
            "EPOCH: 6 BATCH: 60 LOSS: 0.3430 \n",
            "EPOCH: 6 BATCH: 70 LOSS: 0.3404 \n",
            "EPOCH: 6 BATCH: 80 LOSS: 0.3244 \n",
            "EPOCH: 6 BATCH: 90 LOSS: 0.3300 \n",
            "EPOCH: 6 BATCH: 100 LOSS: 0.3318 \n",
            "EPOCH: 6 BATCH: 110 LOSS: 0.3159 \n",
            "EPOCH: 6 BATCH: 120 LOSS: 0.3248 \n",
            "EPOCH: 6 BATCH: 130 LOSS: 0.3339 \n",
            "EPOCH: 6 BATCH: 140 LOSS: 0.3216 \n",
            "EPOCH: 6 BATCH: 150 LOSS: 0.3411 \n",
            "EPOCH: 6 BATCH: 160 LOSS: 0.3431 \n",
            "EPOCH: 6 BATCH: 170 LOSS: 0.3327 \n",
            "EPOCH: 6 BATCH: 180 LOSS: 0.3216 \n",
            "EPOCH: 6 BATCH: 190 LOSS: 0.3270 \n",
            "EPOCH: 6 BATCH: 200 LOSS: 0.3234 \n",
            "EPOCH: 6 BATCH: 210 LOSS: 0.3330 \n",
            "EPOCH: 6 BATCH: 220 LOSS: 0.3388 \n",
            "EPOCH: 6 BATCH: 230 LOSS: 0.3250 \n",
            "EPOCH: 6 BATCH: 240 LOSS: 0.3249 \n",
            "EPOCH: 6 BATCH: 250 LOSS: 0.3221 \n",
            "EPOCH: 6 BATCH: 260 LOSS: 0.3363 \n",
            "EPOCH: 6 BATCH: 270 LOSS: 0.3306 \n",
            "EPOCH: 6 BATCH: 280 LOSS: 0.3221 \n",
            "EPOCH: 6 BATCH: 290 LOSS: 0.3206 \n",
            "EPOCH: 6 BATCH: 300 LOSS: 0.3319 \n",
            "EPOCH: 6 BATCH: 310 LOSS: 0.3382 \n",
            "EPOCH: 6 BATCH: 320 LOSS: 0.3283 \n",
            "EPOCH: 6 BATCH: 330 LOSS: 0.3296 \n",
            "EPOCH: 6 BATCH: 340 LOSS: 0.3188 \n",
            "EPOCH: 6 BATCH: 350 LOSS: 0.3289 \n",
            "EPOCH: 6 BATCH: 360 LOSS: 0.3284 \n",
            "EPOCH: 6 BATCH: 370 LOSS: 0.3368 \n",
            "EPOCH: 6 BATCH: 380 LOSS: 0.3277 \n",
            "EPOCH: 6 BATCH: 390 LOSS: 0.3256 \n",
            "EPOCH: 6 BATCH: 400 LOSS: 0.3193 \n",
            "EPOCH: 6 BATCH: 410 LOSS: 0.3215 \n",
            "EPOCH: 6 BATCH: 420 LOSS: 0.3169 \n",
            "EPOCH: 6 BATCH: 430 LOSS: 0.3259 \n",
            "EPOCH: 6 BATCH: 440 LOSS: 0.3284 \n",
            "EPOCH: 6 BATCH: 450 LOSS: 0.3322 \n",
            "EPOCH: 6 BATCH: 460 LOSS: 0.3259 \n",
            "Time taken: 2.388 mins\n",
            "EPOCH: 7 BATCH: 10 LOSS: 0.3273 \n",
            "EPOCH: 7 BATCH: 20 LOSS: 0.3205 \n",
            "EPOCH: 7 BATCH: 30 LOSS: 0.3386 \n",
            "EPOCH: 7 BATCH: 40 LOSS: 0.3288 \n",
            "EPOCH: 7 BATCH: 50 LOSS: 0.3149 \n",
            "EPOCH: 7 BATCH: 60 LOSS: 0.3304 \n",
            "EPOCH: 7 BATCH: 70 LOSS: 0.3223 \n",
            "EPOCH: 7 BATCH: 80 LOSS: 0.3300 \n",
            "EPOCH: 7 BATCH: 90 LOSS: 0.3251 \n",
            "EPOCH: 7 BATCH: 100 LOSS: 0.3283 \n",
            "EPOCH: 7 BATCH: 110 LOSS: 0.3253 \n",
            "EPOCH: 7 BATCH: 120 LOSS: 0.3284 \n",
            "EPOCH: 7 BATCH: 130 LOSS: 0.3244 \n",
            "EPOCH: 7 BATCH: 140 LOSS: 0.3233 \n",
            "EPOCH: 7 BATCH: 150 LOSS: 0.3311 \n",
            "EPOCH: 7 BATCH: 160 LOSS: 0.3165 \n",
            "EPOCH: 7 BATCH: 170 LOSS: 0.3227 \n",
            "EPOCH: 7 BATCH: 180 LOSS: 0.3170 \n",
            "EPOCH: 7 BATCH: 190 LOSS: 0.3222 \n",
            "EPOCH: 7 BATCH: 200 LOSS: 0.3125 \n",
            "EPOCH: 7 BATCH: 210 LOSS: 0.3132 \n",
            "EPOCH: 7 BATCH: 220 LOSS: 0.3153 \n",
            "EPOCH: 7 BATCH: 230 LOSS: 0.3222 \n",
            "EPOCH: 7 BATCH: 240 LOSS: 0.3266 \n",
            "EPOCH: 7 BATCH: 250 LOSS: 0.3164 \n",
            "EPOCH: 7 BATCH: 260 LOSS: 0.3249 \n",
            "EPOCH: 7 BATCH: 270 LOSS: 0.3262 \n",
            "EPOCH: 7 BATCH: 280 LOSS: 0.3138 \n",
            "EPOCH: 7 BATCH: 290 LOSS: 0.3230 \n",
            "EPOCH: 7 BATCH: 300 LOSS: 0.3198 \n",
            "EPOCH: 7 BATCH: 310 LOSS: 0.3208 \n",
            "EPOCH: 7 BATCH: 320 LOSS: 0.3268 \n",
            "EPOCH: 7 BATCH: 330 LOSS: 0.3148 \n",
            "EPOCH: 7 BATCH: 340 LOSS: 0.3266 \n",
            "EPOCH: 7 BATCH: 350 LOSS: 0.3174 \n",
            "EPOCH: 7 BATCH: 360 LOSS: 0.3164 \n",
            "EPOCH: 7 BATCH: 370 LOSS: 0.3162 \n",
            "EPOCH: 7 BATCH: 380 LOSS: 0.3160 \n",
            "EPOCH: 7 BATCH: 390 LOSS: 0.3126 \n",
            "EPOCH: 7 BATCH: 400 LOSS: 0.3226 \n",
            "EPOCH: 7 BATCH: 410 LOSS: 0.3093 \n",
            "EPOCH: 7 BATCH: 420 LOSS: 0.3218 \n",
            "EPOCH: 7 BATCH: 430 LOSS: 0.3125 \n",
            "EPOCH: 7 BATCH: 440 LOSS: 0.3262 \n",
            "EPOCH: 7 BATCH: 450 LOSS: 0.3166 \n",
            "EPOCH: 7 BATCH: 460 LOSS: 0.3242 \n",
            "Time taken: 2.354 mins\n",
            "EPOCH: 8 BATCH: 10 LOSS: 0.3175 \n",
            "EPOCH: 8 BATCH: 20 LOSS: 0.3100 \n",
            "EPOCH: 8 BATCH: 30 LOSS: 0.3163 \n",
            "EPOCH: 8 BATCH: 40 LOSS: 0.3126 \n",
            "EPOCH: 8 BATCH: 50 LOSS: 0.3123 \n",
            "EPOCH: 8 BATCH: 60 LOSS: 0.3143 \n",
            "EPOCH: 8 BATCH: 70 LOSS: 0.3086 \n",
            "EPOCH: 8 BATCH: 80 LOSS: 0.3193 \n",
            "EPOCH: 8 BATCH: 90 LOSS: 0.3046 \n",
            "EPOCH: 8 BATCH: 100 LOSS: 0.3228 \n",
            "EPOCH: 8 BATCH: 110 LOSS: 0.3107 \n",
            "EPOCH: 8 BATCH: 120 LOSS: 0.3143 \n",
            "EPOCH: 8 BATCH: 130 LOSS: 0.3213 \n",
            "EPOCH: 8 BATCH: 140 LOSS: 0.3154 \n",
            "EPOCH: 8 BATCH: 150 LOSS: 0.3093 \n",
            "EPOCH: 8 BATCH: 160 LOSS: 0.3043 \n",
            "EPOCH: 8 BATCH: 170 LOSS: 0.3166 \n",
            "EPOCH: 8 BATCH: 180 LOSS: 0.3079 \n",
            "EPOCH: 8 BATCH: 190 LOSS: 0.3063 \n",
            "EPOCH: 8 BATCH: 200 LOSS: 0.3109 \n",
            "EPOCH: 8 BATCH: 210 LOSS: 0.3305 \n",
            "EPOCH: 8 BATCH: 220 LOSS: 0.3243 \n",
            "EPOCH: 8 BATCH: 230 LOSS: 0.3131 \n",
            "EPOCH: 8 BATCH: 240 LOSS: 0.3094 \n",
            "EPOCH: 8 BATCH: 250 LOSS: 0.3036 \n",
            "EPOCH: 8 BATCH: 260 LOSS: 0.3156 \n",
            "EPOCH: 8 BATCH: 270 LOSS: 0.3131 \n",
            "EPOCH: 8 BATCH: 280 LOSS: 0.3234 \n",
            "EPOCH: 8 BATCH: 290 LOSS: 0.3204 \n",
            "EPOCH: 8 BATCH: 300 LOSS: 0.3266 \n",
            "EPOCH: 8 BATCH: 310 LOSS: 0.3059 \n",
            "EPOCH: 8 BATCH: 320 LOSS: 0.3061 \n",
            "EPOCH: 8 BATCH: 330 LOSS: 0.3184 \n",
            "EPOCH: 8 BATCH: 340 LOSS: 0.3097 \n",
            "EPOCH: 8 BATCH: 350 LOSS: 0.3039 \n",
            "EPOCH: 8 BATCH: 360 LOSS: 0.2983 \n",
            "EPOCH: 8 BATCH: 370 LOSS: 0.3041 \n",
            "EPOCH: 8 BATCH: 380 LOSS: 0.3098 \n",
            "EPOCH: 8 BATCH: 390 LOSS: 0.3086 \n",
            "EPOCH: 8 BATCH: 400 LOSS: 0.3054 \n",
            "EPOCH: 8 BATCH: 410 LOSS: 0.3109 \n",
            "EPOCH: 8 BATCH: 420 LOSS: 0.3085 \n",
            "EPOCH: 8 BATCH: 430 LOSS: 0.3081 \n",
            "EPOCH: 8 BATCH: 440 LOSS: 0.3074 \n",
            "EPOCH: 8 BATCH: 450 LOSS: 0.3145 \n",
            "EPOCH: 8 BATCH: 460 LOSS: 0.3075 \n",
            "Time taken: 2.360 mins\n",
            "EPOCH: 9 BATCH: 10 LOSS: 0.3194 \n",
            "EPOCH: 9 BATCH: 20 LOSS: 0.3063 \n",
            "EPOCH: 9 BATCH: 30 LOSS: 0.3040 \n",
            "EPOCH: 9 BATCH: 40 LOSS: 0.3152 \n",
            "EPOCH: 9 BATCH: 50 LOSS: 0.3181 \n",
            "EPOCH: 9 BATCH: 60 LOSS: 0.3011 \n",
            "EPOCH: 9 BATCH: 70 LOSS: 0.3165 \n",
            "EPOCH: 9 BATCH: 80 LOSS: 0.3157 \n",
            "EPOCH: 9 BATCH: 90 LOSS: 0.3065 \n",
            "EPOCH: 9 BATCH: 100 LOSS: 0.3154 \n",
            "EPOCH: 9 BATCH: 110 LOSS: 0.3003 \n",
            "EPOCH: 9 BATCH: 120 LOSS: 0.3115 \n",
            "EPOCH: 9 BATCH: 130 LOSS: 0.3037 \n",
            "EPOCH: 9 BATCH: 140 LOSS: 0.3243 \n",
            "EPOCH: 9 BATCH: 150 LOSS: 0.3131 \n",
            "EPOCH: 9 BATCH: 160 LOSS: 0.3078 \n",
            "EPOCH: 9 BATCH: 170 LOSS: 0.3126 \n",
            "EPOCH: 9 BATCH: 180 LOSS: 0.3004 \n",
            "EPOCH: 9 BATCH: 190 LOSS: 0.3141 \n",
            "EPOCH: 9 BATCH: 200 LOSS: 0.3142 \n",
            "EPOCH: 9 BATCH: 210 LOSS: 0.3100 \n",
            "EPOCH: 9 BATCH: 220 LOSS: 0.3084 \n",
            "EPOCH: 9 BATCH: 230 LOSS: 0.3084 \n",
            "EPOCH: 9 BATCH: 240 LOSS: 0.3001 \n",
            "EPOCH: 9 BATCH: 250 LOSS: 0.3240 \n",
            "EPOCH: 9 BATCH: 260 LOSS: 0.2922 \n",
            "EPOCH: 9 BATCH: 270 LOSS: 0.3172 \n",
            "EPOCH: 9 BATCH: 280 LOSS: 0.3189 \n",
            "EPOCH: 9 BATCH: 290 LOSS: 0.3163 \n",
            "EPOCH: 9 BATCH: 300 LOSS: 0.3157 \n",
            "EPOCH: 9 BATCH: 310 LOSS: 0.3096 \n",
            "EPOCH: 9 BATCH: 320 LOSS: 0.3027 \n",
            "EPOCH: 9 BATCH: 330 LOSS: 0.3069 \n",
            "EPOCH: 9 BATCH: 340 LOSS: 0.3030 \n",
            "EPOCH: 9 BATCH: 350 LOSS: 0.2968 \n",
            "EPOCH: 9 BATCH: 360 LOSS: 0.3194 \n",
            "EPOCH: 9 BATCH: 370 LOSS: 0.2985 \n",
            "EPOCH: 9 BATCH: 380 LOSS: 0.3023 \n",
            "EPOCH: 9 BATCH: 390 LOSS: 0.3015 \n",
            "EPOCH: 9 BATCH: 400 LOSS: 0.3069 \n",
            "EPOCH: 9 BATCH: 410 LOSS: 0.3038 \n",
            "EPOCH: 9 BATCH: 420 LOSS: 0.3085 \n",
            "EPOCH: 9 BATCH: 430 LOSS: 0.3034 \n",
            "EPOCH: 9 BATCH: 440 LOSS: 0.3044 \n",
            "EPOCH: 9 BATCH: 450 LOSS: 0.2971 \n",
            "EPOCH: 9 BATCH: 460 LOSS: 0.3067 \n",
            "Time taken: 2.338 mins\n",
            "EPOCH: 10 BATCH: 10 LOSS: 0.3004 \n",
            "EPOCH: 10 BATCH: 20 LOSS: 0.2949 \n",
            "EPOCH: 10 BATCH: 30 LOSS: 0.3117 \n",
            "EPOCH: 10 BATCH: 40 LOSS: 0.3022 \n",
            "EPOCH: 10 BATCH: 50 LOSS: 0.2984 \n",
            "EPOCH: 10 BATCH: 60 LOSS: 0.2846 \n",
            "EPOCH: 10 BATCH: 70 LOSS: 0.3115 \n",
            "EPOCH: 10 BATCH: 80 LOSS: 0.3043 \n",
            "EPOCH: 10 BATCH: 90 LOSS: 0.3081 \n",
            "EPOCH: 10 BATCH: 100 LOSS: 0.3005 \n",
            "EPOCH: 10 BATCH: 110 LOSS: 0.3080 \n",
            "EPOCH: 10 BATCH: 120 LOSS: 0.3098 \n",
            "EPOCH: 10 BATCH: 130 LOSS: 0.3007 \n",
            "EPOCH: 10 BATCH: 140 LOSS: 0.3019 \n",
            "EPOCH: 10 BATCH: 150 LOSS: 0.3137 \n",
            "EPOCH: 10 BATCH: 160 LOSS: 0.3083 \n",
            "EPOCH: 10 BATCH: 170 LOSS: 0.3011 \n",
            "EPOCH: 10 BATCH: 180 LOSS: 0.3091 \n",
            "EPOCH: 10 BATCH: 190 LOSS: 0.3097 \n",
            "EPOCH: 10 BATCH: 200 LOSS: 0.2966 \n",
            "EPOCH: 10 BATCH: 210 LOSS: 0.3017 \n",
            "EPOCH: 10 BATCH: 220 LOSS: 0.3063 \n",
            "EPOCH: 10 BATCH: 230 LOSS: 0.2934 \n",
            "EPOCH: 10 BATCH: 240 LOSS: 0.2899 \n",
            "EPOCH: 10 BATCH: 250 LOSS: 0.3086 \n",
            "EPOCH: 10 BATCH: 260 LOSS: 0.3007 \n",
            "EPOCH: 10 BATCH: 270 LOSS: 0.3078 \n",
            "EPOCH: 10 BATCH: 280 LOSS: 0.2990 \n",
            "EPOCH: 10 BATCH: 290 LOSS: 0.3009 \n",
            "EPOCH: 10 BATCH: 300 LOSS: 0.2999 \n",
            "EPOCH: 10 BATCH: 310 LOSS: 0.3038 \n",
            "EPOCH: 10 BATCH: 320 LOSS: 0.3013 \n",
            "EPOCH: 10 BATCH: 330 LOSS: 0.2999 \n",
            "EPOCH: 10 BATCH: 340 LOSS: 0.2984 \n",
            "EPOCH: 10 BATCH: 350 LOSS: 0.2973 \n",
            "EPOCH: 10 BATCH: 360 LOSS: 0.2882 \n",
            "EPOCH: 10 BATCH: 370 LOSS: 0.3020 \n",
            "EPOCH: 10 BATCH: 380 LOSS: 0.2994 \n",
            "EPOCH: 10 BATCH: 390 LOSS: 0.3092 \n",
            "EPOCH: 10 BATCH: 400 LOSS: 0.3034 \n",
            "EPOCH: 10 BATCH: 410 LOSS: 0.2997 \n",
            "EPOCH: 10 BATCH: 420 LOSS: 0.3084 \n",
            "EPOCH: 10 BATCH: 430 LOSS: 0.2956 \n",
            "EPOCH: 10 BATCH: 440 LOSS: 0.3048 \n",
            "EPOCH: 10 BATCH: 450 LOSS: 0.2979 \n",
            "EPOCH: 10 BATCH: 460 LOSS: 0.3029 \n",
            "Time taken: 2.339 mins\n"
          ]
        }
      ]
    },
    {
      "cell_type": "code",
      "source": [
        ""
      ],
      "metadata": {
        "id": "V18IAFxqA0pm"
      },
      "execution_count": null,
      "outputs": []
    },
    {
      "cell_type": "code",
      "source": [
        "X_train_feature = []\n",
        "reference = simclr_model.encoder(views[0].float().cuda()).detach().cpu().numpy()[0]\n",
        "reference = reference/ np.linalg.norm(reference)\n",
        "\n",
        "plt.imshow(views[0][0].permute(1, 2, 0))\n",
        "plt.title(\"reference\")\n",
        "plt.show()\n",
        "\n",
        "\n",
        "\n",
        "\n",
        "for i, views in enumerate(train_dl):\n",
        "  representation = simclr_model.encoder(views[0].float().cuda())\n",
        "  representation = representation.detach().cpu().numpy()[0]\n",
        "  X_train_feature.append(representation)\n",
        "  representation = representation / np.linalg.norm(representation)\n",
        "    #print(\"sum\", sum(representation**2))\n",
        "  similarity = np.dot(reference, representation)\n",
        "  #print(similarity)\n",
        "  if similarity > 0.5:\n",
        "      print('similarity', similarity)\n",
        "  #print(\"representation\", representation)\n",
        "  #print(\"sum\", sum(representation**2))\n",
        "      plt.imshow(views[0][0].permute(1, 2, 0))\n",
        "      plt.show()\n",
        "  if i == 20:\n",
        "    break"
      ],
      "metadata": {
        "colab": {
          "base_uri": "https://localhost:8080/",
          "height": 1000
        },
        "id": "qfMRwQftJLgY",
        "outputId": "3b2a7136-9fe6-47f4-dc1e-8e7ab4b02459"
      },
      "execution_count": null,
      "outputs": [
        {
          "output_type": "display_data",
          "data": {
            "text/plain": [
              "<Figure size 432x288 with 1 Axes>"
            ],
            "image/png": "[encoded data removed]"
          },
          "metadata": {
            "needs_background": "light"
          }
        },
        {
          "output_type": "stream",
          "name": "stdout",
          "text": [
            "similarity 0.54798687\n"
          ]
        },
        {
          "output_type": "display_data",
          "data": {
            "text/plain": [
              "<Figure size 432x288 with 1 Axes>"
            ],
            "image/png": "[encoded data removed]"
          },
          "metadata": {
            "needs_background": "light"
          }
        },
        {
          "output_type": "stream",
          "name": "stdout",
          "text": [
            "similarity 0.57407975\n"
          ]
        },
        {
          "output_type": "display_data",
          "data": {
            "text/plain": [
              "<Figure size 432x288 with 1 Axes>"
            ],
            "image/png": "[encoded data removed]"
          },
          "metadata": {
            "needs_background": "light"
          }
        },
        {
          "output_type": "stream",
          "name": "stdout",
          "text": [
            "similarity 0.6809287\n"
          ]
        },
        {
          "output_type": "display_data",
          "data": {
            "text/plain": [
              "<Figure size 432x288 with 1 Axes>"
            ],
            "image/png": "[encoded data removed]"
          },
          "metadata": {
            "needs_background": "light"
          }
        }
      ]
    },
    {
      "cell_type": "code",
      "source": [
        "print(\"here\")\n",
        "\n",
        "mnist_test_ds = CustomDataset(\n",
        "    list_images=test_data.data.numpy(),\n",
        "    transform=custom_transform\n",
        ")\n"
      ],
      "metadata": {
        "colab": {
          "base_uri": "https://localhost:8080/"
        },
        "id": "cXAvt8seKDlh",
        "outputId": "7d0776fe-aef1-4272-96ee-aa510a67e3c3"
      },
      "execution_count": null,
      "outputs": [
        {
          "output_type": "stream",
          "name": "stdout",
          "text": [
            "here\n"
          ]
        }
      ]
    },
    {
      "cell_type": "code",
      "source": [
        "BATCH_SIZE = 1\n",
        "\n",
        "# Building the data loader\n",
        "test_dl = torch.utils.data.DataLoader(\n",
        "    mnist_test_ds,\n",
        "    batch_size=BATCH_SIZE,\n",
        "    shuffle=True,\n",
        "    num_workers=os.cpu_count(),\n",
        "    drop_last=True,\n",
        "    pin_memory=True,\n",
        ")"
      ],
      "metadata": {
        "id": "dpPuHMeJLvMH"
      },
      "execution_count": null,
      "outputs": []
    },
    {
      "cell_type": "code",
      "source": [
        "ref_idx = 3\n",
        "sample_image = torch.zeros((1, 3, 28, 28))\n",
        "\n",
        "for i in range(3):\n",
        "    sample_image[0, i, :, :] += test_data.data[ref_idx]\n",
        "\n",
        "reference = simclr_model.encoder(sample_image.float().cuda()).detach().cpu().numpy()[0]\n",
        "reference = reference/ np.linalg.norm(reference)\n",
        "\n",
        "plt.imshow(sample_image[0].permute(1, 2, 0))\n",
        "plt.title(\"reference\")\n",
        "plt.show()\n",
        "\n",
        "\n",
        "\n",
        "\n",
        "for i, views in enumerate(test_dl):\n",
        "  representation = simclr_model.encoder(views[0].float().cuda())\n",
        "  representation = representation.detach().cpu().numpy()[0]\n",
        "  X_train_feature.append(representation)\n",
        "  representation = representation / np.linalg.norm(representation)\n",
        "    #print(\"sum\", sum(representation**2))\n",
        "  similarity = np.dot(reference, representation)\n",
        "  #print(similarity)\n",
        "  if similarity > 0.6:\n",
        "      print('similarity', similarity)\n",
        "  #print(\"representation\", representation)\n",
        "  #print(\"sum\", sum(representation**2))\n",
        "      plt.imshow(views[0][0].permute(1, 2, 0))\n",
        "      plt.show()\n",
        "  if i == 100:\n",
        "\n",
        "    break"
      ],
      "metadata": {
        "colab": {
          "base_uri": "https://localhost:8080/",
          "height": 1000
        },
        "id": "Ci7l6ULqSVTA",
        "outputId": "820dceb3-5888-412c-c2bc-d36744fd2071"
      },
      "execution_count": null,
      "outputs": [
        {
          "output_type": "stream",
          "name": "stderr",
          "text": [
            "Clipping input data to the valid range for imshow with RGB data ([0..1] for floats or [0..255] for integers).\n"
          ]
        },
        {
          "output_type": "display_data",
          "data": {
            "text/plain": [
              "<Figure size 432x288 with 1 Axes>"
            ],
            "image/png": "[encoded data removed]"
          },
          "metadata": {
            "needs_background": "light"
          }
        },
        {
          "output_type": "stream",
          "name": "stdout",
          "text": [
            "similarity 0.6014383\n"
          ]
        },
        {
          "output_type": "display_data",
          "data": {
            "text/plain": [
              "<Figure size 432x288 with 1 Axes>"
            ],
            "image/png": "[encoded data removed]"
          },
          "metadata": {
            "needs_background": "light"
          }
        },
        {
          "output_type": "stream",
          "name": "stdout",
          "text": [
            "similarity 0.8062172\n"
          ]
        },
        {
          "output_type": "display_data",
          "data": {
            "text/plain": [
              "<Figure size 432x288 with 1 Axes>"
            ],
            "image/png": "[encoded data removed]"
          },
          "metadata": {
            "needs_background": "light"
          }
        },
        {
          "output_type": "stream",
          "name": "stdout",
          "text": [
            "similarity 0.6804739\n"
          ]
        },
        {
          "output_type": "display_data",
          "data": {
            "text/plain": [
              "<Figure size 432x288 with 1 Axes>"
            ],
            "image/png": "[encoded data removed]"
          },
          "metadata": {
            "needs_background": "light"
          }
        },
        {
          "output_type": "stream",
          "name": "stdout",
          "text": [
            "similarity 0.6051091\n"
          ]
        },
        {
          "output_type": "display_data",
          "data": {
            "text/plain": [
              "<Figure size 432x288 with 1 Axes>"
            ],
            "image/png": "[encoded data removed]"
          },
          "metadata": {
            "needs_background": "light"
          }
        }
      ]
    },
    {
      "cell_type": "code",
      "source": [
        "\n",
        "\n",
        "\n",
        "\n",
        "\n"
      ],
      "metadata": {
        "id": "IAGtrypvSehB"
      },
      "execution_count": null,
      "outputs": []
    },
    {
      "cell_type": "code",
      "source": [
        ""
      ],
      "metadata": {
        "id": "sEVe570uTNFs"
      },
      "execution_count": null,
      "outputs": []
    }
  ]
}